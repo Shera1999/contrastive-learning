{
 "cells": [
  {
   "cell_type": "code",
   "execution_count": null,
   "metadata": {
    "vscode": {
     "languageId": "plaintext"
    }
   },
   "outputs": [],
   "source": [
    "import os\n",
    "import yaml\n",
    "import numpy as np\n",
    "import torch\n",
    "import matplotlib.pyplot as plt\n",
    "from postprocessing.plot_knn import plot_knn_examples\n",
    "from postprocessing.plot_umap import plot_umap_projection\n",
    "from postprocessing.plot_grid import plot_images_on_grid\n",
    "from models.simclr import SimCLRModel"
   ]
  },
  {
   "cell_type": "code",
   "execution_count": null,
   "metadata": {
    "vscode": {
     "languageId": "plaintext"
    }
   },
   "outputs": [],
   "source": [
    "# Load Dataset Path from Configuration\n",
    "with open(\"configs/dataset_config.yaml\", \"r\") as file:\n",
    "    dataset_config = yaml.safe_load(file)\n",
    "DATASET_PATH = dataset_config[\"dataset\"][\"data_path\"]\n",
    "\n",
    "# Load Model\n",
    "model_path = \"checkpoints/final_model.pth\"\n",
    "if not os.path.exists(model_path):\n",
    "    raise FileNotFoundError(\"Model checkpoint not found. Please run `main.sh` first.\")\n",
    "\n",
    "device = torch.device(\"cuda\" if torch.cuda.is_available() else \"cpu\")\n",
    "model = SimCLRModel()\n",
    "model.load_state_dict(torch.load(model_path, map_location=device))\n",
    "model.to(device)\n",
    "model.eval()\n",
    "print(\"Model loaded successfully.\")\n"
   ]
  },
  {
   "cell_type": "code",
   "execution_count": null,
   "metadata": {
    "vscode": {
     "languageId": "plaintext"
    }
   },
   "outputs": [],
   "source": [
    "# Load Embeddings\n",
    "embeddings_path = \"embeddings.npy\"\n",
    "embeddings_2d_path = \"embeddings_2d.npy\"\n",
    "\n",
    "if os.path.exists(embeddings_path) and os.path.exists(embeddings_2d_path):\n",
    "    embeddings = np.load(embeddings_path)\n",
    "    embeddings_2d = np.load(embeddings_2d_path)\n",
    "    print(\"Embeddings loaded successfully.\")\n",
    "else:\n",
    "    raise FileNotFoundError(\"Embeddings not found. Please run `main.sh` first.\")"
   ]
  },
  {
   "cell_type": "code",
   "execution_count": null,
   "metadata": {
    "vscode": {
     "languageId": "plaintext"
    }
   },
   "outputs": [],
   "source": [
    "# Retrieve Filenames Directly from Dataset Path\n",
    "image_extensions = (\".jpg\", \".png\", \".jpeg\")\n",
    "filenames = sorted([os.path.join(DATASET_PATH, f) for f in os.listdir(DATASET_PATH) if f.lower().endswith(image_extensions)])\n",
    "\n",
    "if len(filenames) != len(embeddings):\n",
    "    raise ValueError(f\"Mismatch: {len(embeddings)} embeddings vs. {len(filenames)} filenames!\")"
   ]
  },
  {
   "cell_type": "code",
   "execution_count": null,
   "metadata": {
    "vscode": {
     "languageId": "plaintext"
    }
   },
   "outputs": [],
   "source": [
    "# Plot 1: Visualize Nearest Neighbors\n",
    "plot_knn_examples(embeddings, filenames, n_neighbors=5, num_examples=6)"
   ]
  },
  {
   "cell_type": "code",
   "execution_count": null,
   "metadata": {
    "vscode": {
     "languageId": "plaintext"
    }
   },
   "outputs": [],
   "source": [
    "# Plot 2: UMAP Projection\n",
    "plot_umap_projection(embeddings_2d)"
   ]
  },
  {
   "cell_type": "code",
   "execution_count": null,
   "metadata": {
    "vscode": {
     "languageId": "plaintext"
    }
   },
   "outputs": [],
   "source": [
    "# Plot 3: Plot Images on Grid\n",
    "plot_images_on_grid(embeddings_2d, filenames, grid_size=20, cell_size=128, step=50)\n"
   ]
  }
 ],
 "metadata": {
  "language_info": {
   "name": "python"
  }
 },
 "nbformat": 4,
 "nbformat_minor": 2
}
